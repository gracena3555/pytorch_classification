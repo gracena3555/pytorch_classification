{
 "cells": [
  {
   "cell_type": "markdown",
   "id": "38de8d9f",
   "metadata": {},
   "source": [
    "# MNIST 데이터셋 : 사람 손글씨 데이터\n",
    "https://ko.wikipedia.org/wiki/MNIST_%EB%8D%B0%EC%9D%B4%ED%84%B0%EB%B2%A0%EC%9D%B4%EC%8A%A4"
   ]
  },
  {
   "cell_type": "code",
   "execution_count": 1,
   "id": "feb009fb",
   "metadata": {},
   "outputs": [
    {
     "data": {
      "text/plain": [
       "'\\n전체적인 구조\\n\\n# 첫번째 레이어\\n합성곱(in_channel = 1, out_channel = 32, kernel_size=3, stride=1, padding=1) + 활성화함수(Activation function) ReLU\\n맥스풀링(kernel_size-2, stride=2)\\n\\n# 두번째 레이어\\n# 첫번쨰 레이어에서 out과 두번쨰 in 숫자 맞춰주기\\n합성곱(in_channel = 32, out_channel = 64, kernel_size=3, stride=1, padding=1) + 활성화함수(Activation function) ReLU\\n맥스풀링(kernel_size-2, stride=2)\\n\\n# 세번째 레이어\\nbatch_size x 7 x 7 x 64 => batch size = 3136(특성맵을 펼치는 레이어)\\nFully cinnected(전결합층 뉴런 10개) + 활성화 함수 softmax\\n'"
      ]
     },
     "execution_count": 1,
     "metadata": {},
     "output_type": "execute_result"
    }
   ],
   "source": [
    "\"\"\"\n",
    "전체적인 구조\n",
    "\n",
    "# 첫번째 레이어\n",
    "합성곱(in_channel = 1, out_channel = 32, kernel_size=3, stride=1, padding=1) + 활성화함수(Activation function) ReLU\n",
    "맥스풀링(kernel_size-2, stride=2)\n",
    "\n",
    "# 두번째 레이어\n",
    "# 첫번쨰 레이어에서 out과 두번쨰 in 숫자 맞춰주기\n",
    "합성곱(in_channel = 32, out_channel = 64, kernel_size=3, stride=1, padding=1) + 활성화함수(Activation function) ReLU\n",
    "맥스풀링(kernel_size-2, stride=2)\n",
    "\n",
    "# 세번째 레이어\n",
    "batch_size x 7 x 7 x 64 => batch size = 3136(특성맵을 펼치는 레이어)\n",
    "Fully cinnected(전결합층 뉴런 10개) + 활성화 함수 softmax\n",
    "\"\"\""
   ]
  },
  {
   "cell_type": "markdown",
   "id": "7c7af23c",
   "metadata": {},
   "source": [
    "### 모델을 만드는 과정"
   ]
  },
  {
   "cell_type": "code",
   "execution_count": 2,
   "id": "8dedc115",
   "metadata": {},
   "outputs": [],
   "source": [
    "# 구현에 필요한 라이브러리 불러오기\n",
    "\n",
    "import torch\n",
    "import torch.nn as nn\n",
    "\n",
    "# torch.nn.Conv2d() = nn.Conv2d()\n",
    "# as를 선언하지 않았을 경우 torch.nn.Conv2d()\n",
    "# as를 선언한 경우 nn.Conv2d()"
   ]
  },
  {
   "cell_type": "code",
   "execution_count": 3,
   "id": "f60379ae",
   "metadata": {},
   "outputs": [
    {
     "name": "stdout",
     "output_type": "stream",
     "text": [
      "텐서의 크기: torch.Size([1, 1, 28, 28])\n"
     ]
    }
   ],
   "source": [
    "# 임의의 텐서 생성 (1,1,28,28) -> MNIST 데이터를 받아오기 위한 빈 공간\n",
    "\n",
    "inputs = torch.Tensor(1,1,28,28)\n",
    "print(\"텐서의 크기: {}\".format(inputs.shape))"
   ]
  },
  {
   "cell_type": "code",
   "execution_count": 4,
   "id": "f0d66924",
   "metadata": {},
   "outputs": [
    {
     "name": "stdout",
     "output_type": "stream",
     "text": [
      "Conv2d(1, 32, kernel_size=(3, 3), stride=(1, 1), padding=(1, 1))\n"
     ]
    }
   ],
   "source": [
    "# 첫번째 합성곱층 선언하기\n",
    "conv1 = nn.Conv2d(1, 32, kernel_size=3, padding=1) # Conv2d내의 인자값(input_channel, ouput_channel, 커널 사이즈, 패딩)\n",
    "print(conv1)"
   ]
  },
  {
   "cell_type": "code",
   "execution_count": 5,
   "id": "ab4658a6",
   "metadata": {},
   "outputs": [
    {
     "name": "stdout",
     "output_type": "stream",
     "text": [
      "Conv2d(32, 64, kernel_size=(3, 3), stride=(1, 1), padding=(1, 1))\n"
     ]
    }
   ],
   "source": [
    "# 두번째 합성곱층 선언하기\n",
    "# 두번째에서는 인자값만 선언해도 됨\n",
    "conv2 = nn.Conv2d(32, 64, 3, padding=1)\n",
    "print(conv2)"
   ]
  },
  {
   "cell_type": "code",
   "execution_count": 6,
   "id": "3fb76acc",
   "metadata": {},
   "outputs": [
    {
     "name": "stdout",
     "output_type": "stream",
     "text": [
      "MaxPool2d(kernel_size=2, stride=2, padding=0, dilation=1, ceil_mode=False)\n"
     ]
    }
   ],
   "source": [
    "# 세번째 합성곱층 선언하기(풀링 레이어)\n",
    "# 두번째 레이어까지의 특성맵을 펼치는 과정\n",
    "pool = nn.MaxPool2d(2) # 간단히 선언하면 선언된 하나의 정수값을 통해서 kernel_size, stride가 결정되게 된다.\n",
    "print(pool)\n",
    "\n",
    "# pool = nn.MaxPool2d(kernel_size=2, stride=2, padding=0, dilation=1, ceil_mode=False) # 위와 동일"
   ]
  },
  {
   "cell_type": "code",
   "execution_count": 7,
   "id": "008b0695",
   "metadata": {},
   "outputs": [
    {
     "name": "stdout",
     "output_type": "stream",
     "text": [
      "torch.Size([1, 32, 28, 28])\n"
     ]
    }
   ],
   "source": [
    "# 선언된 레이어를 연결하는 과정\n",
    "# 첫번째 레이어 지나가기\n",
    "out = conv1(inputs) # 임의의 값이 conv레이어를 지나게 된 out\n",
    "print(out.shape) # output_channel 이 32로 변한 것을 확인 # inputs.shape"
   ]
  },
  {
   "cell_type": "code",
   "execution_count": 8,
   "id": "a92da6fd",
   "metadata": {},
   "outputs": [
    {
     "name": "stdout",
     "output_type": "stream",
     "text": [
      "torch.Size([1, 32, 14, 14])\n"
     ]
    }
   ],
   "source": [
    "# 컨벌루셔널 레이어를 거쳐 갈 경우 마지막에 pooling layer가 존재함\n",
    "out = pool(out) # conv레이어에서 나올때 맥스풀링하게 되는 과정\n",
    "print(out.shape)"
   ]
  },
  {
   "cell_type": "code",
   "execution_count": 9,
   "id": "2226b2a7",
   "metadata": {},
   "outputs": [
    {
     "name": "stdout",
     "output_type": "stream",
     "text": [
      "torch.Size([1, 64, 14, 14])\n"
     ]
    }
   ],
   "source": [
    "# 두번째 레이어 지나가기\n",
    "out = conv2(out) # 임의의 값이 conv레이어를 지나게 된 out\n",
    "print(out.shape)"
   ]
  },
  {
   "cell_type": "code",
   "execution_count": 10,
   "id": "e50cf3c5",
   "metadata": {},
   "outputs": [
    {
     "name": "stdout",
     "output_type": "stream",
     "text": [
      "torch.Size([1, 64, 7, 7])\n"
     ]
    }
   ],
   "source": [
    "# 두번째 컨벌루셔널 레이어를 거쳐 갈 경우 마지막에 pooling layer가 존재함\n",
    "out = pool(out)\n",
    "print(out.shape) "
   ]
  },
  {
   "cell_type": "code",
   "execution_count": 11,
   "id": "05da5cd1",
   "metadata": {},
   "outputs": [
    {
     "name": "stdout",
     "output_type": "stream",
     "text": [
      "torch.Size([1, 3136])\n"
     ]
    }
   ],
   "source": [
    "# view() 함수를 사용해서 텐서를 펼치는 작업 (탠서를 통합한다) : 전체 차원이 하나로 합쳐진 batch_size=3136\n",
    "out = out.view(out.size(0), -1)\n",
    "print(out.shape)"
   ]
  },
  {
   "cell_type": "code",
   "execution_count": 12,
   "id": "858787a5",
   "metadata": {},
   "outputs": [
    {
     "name": "stdout",
     "output_type": "stream",
     "text": [
      "torch.Size([1, 10])\n"
     ]
    }
   ],
   "source": [
    "# fully connected : 전체를 연결(기초적인 신경망)\n",
    "# 통합된 3136크기의 텐서를 통해 0~9까지의 결과를 갖게 되기 때문에 10개의 output\n",
    "fc = nn.Linear(3136, 10)# 3136개를 input으로 받고 10개의 클래스를 output으로 \n",
    "out = fc(out)\n",
    "print(out.shape)\n",
    "\n",
    "# 위까지가 전체 모델 생성 과정"
   ]
  },
  {
   "cell_type": "markdown",
   "id": "5ed3f13f",
   "metadata": {},
   "source": [
    "### MNIST데이터셋을 불러와서 classification 진행"
   ]
  },
  {
   "cell_type": "code",
   "execution_count": 13,
   "id": "5efbeac4",
   "metadata": {},
   "outputs": [],
   "source": [
    "# 위에서 선언한 신경망을 통해서 MNIST(숫자 데이터셋) 분류 문제 해결하기\n",
    "import torch\n",
    "import torchvision.datasets as dsets\n",
    "import torchvision.transforms as transforms\n",
    "import torch.nn.init # 초기화 라이브러리"
   ]
  },
  {
   "cell_type": "code",
   "execution_count": 14,
   "id": "2953c353",
   "metadata": {},
   "outputs": [],
   "source": [
    "# GPU 가속화를 위한 설정\n",
    "device = 'cuda' if torch.cuda.is_available() else 'cpu'\n",
    "# torch.cuda.is_available()함수는 False/True의 boolean형태로 나타나게 되는데, \n",
    "# CUDA를 사용 가능할 경우 True를 반환하기 때문에 device='cuda'가 되고, \n",
    "# 사용이 불가능할 경우 False를 반환하기 때문에 else 조건을 만족하는 device='cpu'가 됨\n",
    "\n",
    "# GPU사용시에 고정시킬 시드를 선언\n",
    "torch.manual_seed(777)\n",
    "\n",
    "# 만약 CPU가 아닌 GPU를 사용해서 훈련을 진행할 경우 고정된 시드를 통해 GPU로 학습\n",
    "if device == 'cuda':\n",
    "    torch.cuda.manual_seed_all(777)"
   ]
  },
  {
   "cell_type": "code",
   "execution_count": 15,
   "id": "646928ee",
   "metadata": {},
   "outputs": [
    {
     "name": "stdout",
     "output_type": "stream",
     "text": [
      "True\n"
     ]
    }
   ],
   "source": [
    "print(torch.cuda.is_available()) # gpu 사용 가능하다면 True # False이면 cpu를 사용한다(위에서 조건 설정)"
   ]
  },
  {
   "cell_type": "code",
   "execution_count": 16,
   "id": "1cde7b0f",
   "metadata": {},
   "outputs": [],
   "source": [
    "# 학습에 사용되는 변수(파라미터 : 학습률, 에폭, 배치사이즈 등) 선언\n",
    "learning_rate = 0.001\n",
    "training_epoch = 15\n",
    "batch_size = 100"
   ]
  },
  {
   "cell_type": "code",
   "execution_count": 17,
   "id": "c1928c2f",
   "metadata": {},
   "outputs": [],
   "source": [
    "# MNIST train, test 데이터셋을 torchvision.datasets를 통해 비교적으로 쉽게 가져오기\n",
    "\n",
    "mnist_train = dsets.MNIST(root='MNIST_data/',\n",
    "                         train=True,\n",
    "                         transform=transforms.ToTensor(),\n",
    "                         download=True)\n",
    "\n",
    "mnist_test = dsets.MNIST(root='MNIST_data/',\n",
    "                        train=False,\n",
    "                        transform=transforms.ToTensor(),\n",
    "                        download=True)"
   ]
  },
  {
   "cell_type": "code",
   "execution_count": 18,
   "id": "77649f14",
   "metadata": {},
   "outputs": [],
   "source": [
    "# 데이터로더를 이용해서 배치크기를 지정\n",
    "data_loader = torch.utils.data.DataLoader(dataset=mnist_train,\n",
    "                                         batch_size=batch_size,\n",
    "                                         shuffle=True,\n",
    "                                         drop_last=True)"
   ]
  },
  {
   "cell_type": "code",
   "execution_count": 19,
   "id": "fef8df10",
   "metadata": {},
   "outputs": [],
   "source": [
    "class CNN(torch.nn.Module):# CNN 구조를 사용한 모델을 선언하기 위한 클래스\n",
    "    def __init__(self): # 초기화 함수, 동시에 모델의 구조를 선언하는 함수\n",
    "        super(CNN, self).__init__()\n",
    "        \n",
    "        self.layer1 = torch.nn.Sequential(torch.nn.Conv2d(1, 32, kernel_size=3, stride=1, padding=1),\n",
    "                                         torch.nn.ReLU(),\n",
    "                                         torch.nn.MaxPool2d(kernel_size=2, stride=2))\n",
    "        \n",
    "        self.layer2 = torch.nn.Sequential(torch.nn.Conv2d(32, 64, kernel_size=3, stride=1, padding=1),\n",
    "                                         torch.nn.ReLU(),\n",
    "                                         torch.nn.MaxPool2d(kernel_size=2, stride=2))\n",
    "        \n",
    "        self.fc = torch.nn.Linear(7 * 7 * 64, 10, bias=True)\n",
    "        \n",
    "        torch.nn.init.xavier_uniform_(self.fc.weight)\n",
    "\n",
    "    def forward(self, x): # 레이어를 거치며 계산되는 가중치를 전달하기 위해 사용하는 함수\n",
    "        out = self.layer1(x)\n",
    "        out = self.layer2(out)\n",
    "        out = out.view(out.size(0), -1)\n",
    "        out = self.fc(out)\n",
    "        \n",
    "        return out"
   ]
  },
  {
   "cell_type": "code",
   "execution_count": 20,
   "id": "7f933718",
   "metadata": {},
   "outputs": [],
   "source": [
    "# CNN 클래스 호출\n",
    "# cuda든 cpu를 사용하든 연산을 하기위해 어떤 device에 부여할 것인지 설정하는 것\n",
    "model = CNN().to(device) \n",
    "# model이라는 객체를 통해서 CNN 클래스가 선언이 되고, 이는, to(device)를 통해 gpu에서 연산을 하게 됨 "
   ]
  },
  {
   "cell_type": "code",
   "execution_count": 21,
   "id": "57eaa36e",
   "metadata": {},
   "outputs": [],
   "source": [
    "# 비용함수(cost function = loss function)는 크로스엔트로피로 선언\n",
    "# 옵티마이저는 Adam으로 설정\n",
    "criterion = torch.nn.CrossEntropyLoss().to(device)\n",
    "optimizer = torch.optim.Adam(model.parameters(), lr=learning_rate)"
   ]
  },
  {
   "cell_type": "code",
   "execution_count": 22,
   "id": "6daa269c",
   "metadata": {},
   "outputs": [
    {
     "name": "stdout",
     "output_type": "stream",
     "text": [
      "총 배치의 수 : 600\n"
     ]
    }
   ],
   "source": [
    "# 총 batch 수 \n",
    "total_batch = len(data_loader)\n",
    "print('총 배치의 수 : {}'.format(total_batch)) # 총 6만개의 데이터를 가지고 600번을 반복하기에\n",
    "\n",
    "# MNIST dataset은 60,000개의 데이터를 가지고 있는데, \n",
    "#batch_size를 100번으로 설정했으므로 총 600의 batch_size를 가지게 됨"
   ]
  },
  {
   "cell_type": "code",
   "execution_count": 23,
   "id": "1d52a87c",
   "metadata": {},
   "outputs": [
    {
     "name": "stdout",
     "output_type": "stream",
     "text": [
      "[Epoch :    1] cost = 0.225674048\n",
      "[Epoch :    2] cost = 0.0631026775\n",
      "[Epoch :    3] cost = 0.0462856963\n",
      "[Epoch :    4] cost = 0.0374607854\n",
      "[Epoch :    5] cost = 0.0315512568\n",
      "[Epoch :    6] cost = 0.0261680596\n",
      "[Epoch :    7] cost = 0.021803556\n",
      "[Epoch :    8] cost = 0.0184477028\n",
      "[Epoch :    9] cost = 0.0164121781\n",
      "[Epoch :   10] cost = 0.0135204783\n",
      "[Epoch :   11] cost = 0.0101817129\n",
      "[Epoch :   12] cost = 0.00981508102\n",
      "[Epoch :   13] cost = 0.00831910875\n",
      "[Epoch :   14] cost = 0.00708321994\n",
      "[Epoch :   15] cost = 0.00677147135\n"
     ]
    }
   ],
   "source": [
    "# 학습하기\n",
    "for epoch in range(training_epoch):\n",
    "    avg_cost = 0 # cost의 총 평균을 초기화\n",
    "    \n",
    "    for X, Y in data_loader:\n",
    "        X = X.to(device)\n",
    "        Y = Y.to(device)\n",
    "        \n",
    "        optimizer.zero_grad()\n",
    "        hypothesis = model(X)\n",
    "        cost = criterion(hypothesis, Y)\n",
    "        cost.backward()\n",
    "        optimizer.step()\n",
    "        \n",
    "        avg_cost += cost / total_batch\n",
    "    \n",
    "    # 뒤에서부터 몇 글자를 출력할지 # 소수점의 경우에는 .(comma)자리수\n",
    "    print('[Epoch : {:>4}] cost = {:>.9}'.format(epoch+1, avg_cost)) "
   ]
  },
  {
   "cell_type": "code",
   "execution_count": 24,
   "id": "898e2297",
   "metadata": {},
   "outputs": [
    {
     "name": "stdout",
     "output_type": "stream",
     "text": [
      "Accuracy: 0.9870999455451965\n"
     ]
    },
    {
     "name": "stderr",
     "output_type": "stream",
     "text": [
      "C:\\Users\\10\\anaconda3\\envs\\pytorch\\lib\\site-packages\\torchvision\\datasets\\mnist.py:67: UserWarning: test_data has been renamed data\n",
      "  warnings.warn(\"test_data has been renamed data\")\n",
      "C:\\Users\\10\\anaconda3\\envs\\pytorch\\lib\\site-packages\\torchvision\\datasets\\mnist.py:57: UserWarning: test_labels has been renamed targets\n",
      "  warnings.warn(\"test_labels has been renamed targets\")\n"
     ]
    }
   ],
   "source": [
    "# 학습한 결과를 테스트하는 과정\n",
    "with torch.no_grad(): # 더 이상 학습을 진행시키지 않기 위해 no_grad()사용\n",
    "    X_test = mnist_test.test_data.view(len(mnist_test), 1, 28, 28).float().to(device)\n",
    "    Y_test = mnist_test.test_labels.to(device)\n",
    "    \n",
    "    prediction = model(X_test)\n",
    "    correct_prediction = torch.argmax(prediction, 1) == Y_test\n",
    "    accuracy = correct_prediction.float().mean()\n",
    "    \n",
    "    print(\"Accuracy:\", accuracy.item())"
   ]
  },
  {
   "cell_type": "code",
   "execution_count": null,
   "id": "2ed103b6",
   "metadata": {},
   "outputs": [],
   "source": []
  }
 ],
 "metadata": {
  "kernelspec": {
   "display_name": "Python 3 (ipykernel)",
   "language": "python",
   "name": "python3"
  },
  "language_info": {
   "codemirror_mode": {
    "name": "ipython",
    "version": 3
   },
   "file_extension": ".py",
   "mimetype": "text/x-python",
   "name": "python",
   "nbconvert_exporter": "python",
   "pygments_lexer": "ipython3",
   "version": "3.8.12"
  }
 },
 "nbformat": 4,
 "nbformat_minor": 5
}
