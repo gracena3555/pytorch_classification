{
 "cells": [
  {
   "cell_type": "code",
   "execution_count": 3,
   "id": "5262d181",
   "metadata": {},
   "outputs": [
    {
     "data": {
      "text/plain": [
       "'1.10.2'"
      ]
     },
     "execution_count": 3,
     "metadata": {},
     "output_type": "execute_result"
    }
   ],
   "source": [
    "import torch\n",
    "import torchvision\n",
    "\n",
    "torch.__version__"
   ]
  },
  {
   "cell_type": "code",
   "execution_count": null,
   "id": "bb4764e1",
   "metadata": {},
   "outputs": [],
   "source": [
    "result1 = 1 # 전역변수, 지역변수 # 전역변수 설정\n",
    "result2 = 2\n",
    "\n",
    "def add(num):\n",
    "    global result1 #  전역변수 result1을 상속받기 위해 global 사용\n",
    "    result1 += num\n",
    "#     result = 0 # 함수 내에 지역변수 설정\n",
    "\n",
    "    return result1\n",
    "\n",
    "def mul(num):\n",
    "    global result2 # 전역변수 result2를 상속받기 위해 global사용\n",
    "    result2 * num\n",
    "\n",
    "    return result2\n",
    "\n",
    "print(add(3)) # 1(result)+3(num)\n",
    "print(mul(3))"
   ]
  },
  {
   "cell_type": "code",
   "execution_count": 14,
   "id": "b80b6f55",
   "metadata": {},
   "outputs": [
    {
     "name": "stdout",
     "output_type": "stream",
     "text": [
      "3\n",
      "9\n"
     ]
    }
   ],
   "source": [
    "# def(), class()의 차이점을 파악하기 위한 python 기초 코드(함수와 클래스의 차이)\n",
    "\n",
    "# result1 = 1 # 전역변수, 지역변수 # 전역변수 설정\n",
    "# result2 = 2\n",
    "\"\"\"\n",
    "함수 구현하기\n",
    "add라는 덧셈기 구현\n",
    "mul이라는 곱셈기 구현\n",
    "함수는 def로 구현하고, 클래스는 class로 구현\n",
    "이 선언된 함수를 클래스 내로 넣기 위해서는 들여쓰기에 유의해야 함\n",
    "\"들여쓰기는 기본으로 space*4번한 것이 default(= tab키 1번과 동일함)\"\n",
    "def() 여러 인자를 전달하기 위해서는 ,를 이용해 구분\n",
    "\"\"\"\n",
    "# 이런 함수들을 하나로 묶는 것이 class\n",
    "class Calculator:\n",
    "    def __init__(self): # 객체 생성시 호출되는 초기화 함수(=생성자 라고도 한다) # self인자가 기본으로 들어감\n",
    "        self.result = 0\n",
    "    \n",
    "    def add(self, num): # 인자 2개 들어가야 함\n",
    "#         global result1 #  global 상속받을 필요 없음\n",
    "        self.result += num\n",
    "    #     result = 0 # 함수 내에 지역변수 설정\n",
    "\n",
    "        return self.result\n",
    "    \n",
    "    def mul(self, num):\n",
    "#         global result2 #  global 상속받을 필요 없음\n",
    "        self.result = self.result * num\n",
    "\n",
    "        return self.result\n",
    "\n",
    "cal = Calculator() # 클래스를 사용하기 위한 객체 : cal, class명 : Calculator\n",
    "\n",
    "print(cal.add(3)) # 클래스 안에 있는 add함수를 사용하기 위해\n",
    "print(cal.mul(3))\n",
    "# print(add(3)) # 1(result)+3(num)\n",
    "# print(mul(3))"
   ]
  },
  {
   "cell_type": "code",
   "execution_count": 12,
   "id": "6289edc5",
   "metadata": {},
   "outputs": [
    {
     "name": "stdout",
     "output_type": "stream",
     "text": [
      "8\n",
      "15\n"
     ]
    }
   ],
   "source": [
    "class Calculator:\n",
    "    def __init__(self): # 객체 생성시 호출되는 초기화 함수(=생성자 라고도 한다) # self인자가 기본으로 들어감\n",
    "        self.result1 = 5\n",
    "        self.result2 = 5\n",
    "    \n",
    "    def add(self, num1): # 인자 2개 들어가야 함\n",
    "        self.result1 += num1\n",
    "\n",
    "        return self.result1\n",
    "    \n",
    "    def mul(self, num2):\n",
    "        self.result2 = (self.result2 * num2)\n",
    "\n",
    "        return self.result2\n",
    "\n",
    "cal = Calculator() # 클래스를 사용하기 위한 객체 : cal, class명 : Calculator\n",
    "\n",
    "print(cal.add(3)) # 클래스 안에 있는 add함수를 사용하기 위해\n",
    "print(cal.mul(3))\n",
    "\n",
    "# 1) 객체 선언 후 클래스에 접근\n",
    "# 2) 선언된 객체를 통해 함수에 접근"
   ]
  },
  {
   "cell_type": "code",
   "execution_count": null,
   "id": "bde32735",
   "metadata": {},
   "outputs": [],
   "source": []
  }
 ],
 "metadata": {
  "kernelspec": {
   "display_name": "Python 3 (ipykernel)",
   "language": "python",
   "name": "python3"
  },
  "language_info": {
   "codemirror_mode": {
    "name": "ipython",
    "version": 3
   },
   "file_extension": ".py",
   "mimetype": "text/x-python",
   "name": "python",
   "nbconvert_exporter": "python",
   "pygments_lexer": "ipython3",
   "version": "3.8.12"
  }
 },
 "nbformat": 4,
 "nbformat_minor": 5
}
